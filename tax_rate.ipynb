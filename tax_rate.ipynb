{
 "nbformat": 4,
 "nbformat_minor": 2,
 "metadata": {
  "language_info": {
   "name": "python",
   "codemirror_mode": {
    "name": "ipython",
    "version": 3
   },
   "version": "3.7.5-final"
  },
  "orig_nbformat": 2,
  "file_extension": ".py",
  "mimetype": "text/x-python",
  "name": "python",
  "npconvert_exporter": "python",
  "pygments_lexer": "ipython3",
  "version": 3,
  "kernelspec": {
   "name": "python37564bit7ce19d34b5d64e10aeb63e084aaca162",
   "display_name": "Python 3.7.5 64-bit"
  }
 },
 "cells": [
  {
   "cell_type": "code",
   "execution_count": 4,
   "metadata": {},
   "outputs": [],
   "source": [
    "import numpy as np\n",
    "import pandas as pd\n",
    "import plotly_express as px\n",
    "\n",
    "in_data=pd.read_csv('./C/1_in.csv')"
   ]
  },
  {
   "cell_type": "code",
   "execution_count": 5,
   "metadata": {},
   "outputs": [
    {
     "name": "stdout",
     "output_type": "stream",
     "text": "210947\n"
    }
   ],
   "source": [
    "N=in_data.shape[0]\n",
    "print(N)"
   ]
  },
  {
   "cell_type": "code",
   "execution_count": 6,
   "metadata": {},
   "outputs": [],
   "source": [
    "in_data['税率']=''"
   ]
  },
  {
   "cell_type": "code",
   "execution_count": 8,
   "metadata": {},
   "outputs": [],
   "source": [
    "for i in range(N):\n",
    "    money=in_data['金额'][i]\n",
    "    tax=in_data['税额'][i]\n",
    "    total=in_data['价税合计'][i]\n",
    "    rate=tax/total\n",
    "    in_data['税率'][i]=rate"
   ]
  },
  {
   "cell_type": "code",
   "execution_count": 12,
   "metadata": {},
   "outputs": [],
   "source": [
    "in_data_valid=in_data[in_data.发票状态 != '作废发票']\n",
    "in_data_valid=in_data_valid[in_data_valid.价税合计 >0]"
   ]
  },
  {
   "cell_type": "code",
   "execution_count": 14,
   "metadata": {},
   "outputs": [],
   "source": [
    "tax_rate_in=px.scatter(in_data_valid, x=\"价税合计\", y=\"税率\", \n",
    "color=\"企业代号\",#颜色分类\n",
    "# marginal_y=\"rug\",#右侧细条\n",
    "# marginal_x=\"histogram\",#上方直方图    violin 小提琴图  box箱型图\n",
    "# trendline=\"ols\"#趋势线\n",
    "#, facet_row=\"time\", facet_col=\"day\",,category_orders={\"day\": [\"Thur\", \n",
    "#           \"Fri\", \"Sat\", \"Sun\"], \"time\": [\"Lunch\", \"Dinner\"]} #分块\n",
    ")\n",
    "tax_rate_in.write_html('tax_rate_in.html')"
   ]
  },
  {
   "cell_type": "code",
   "execution_count": 16,
   "metadata": {},
   "outputs": [],
   "source": [
    "out_data=pd.read_csv('./C/1_out.csv')\n",
    "N_out=out_data.shape[0]\n",
    "out_data['税率']=''\n",
    "for i in range(N_out):\n",
    "    money=out_data['金额'][i]\n",
    "    tax=out_data['税额'][i]\n",
    "    total=out_data['价税合计'][i]\n",
    "    rate=tax/total\n",
    "    out_data['税率'][i]=rate\n",
    "out_data_valid=out_data[in_data.发票状态 != '作废发票']\n",
    "out_data_valid=out_data_valid[out_data_valid.价税合计 >0]"
   ]
  },
  {
   "cell_type": "code",
   "execution_count": 18,
   "metadata": {},
   "outputs": [],
   "source": [
    "tax_rate_out=px.scatter(out_data_valid, x=\"价税合计\", y=\"税率\", \n",
    "color=\"企业代号\",#颜色分类\n",
    "# marginal_y=\"rug\",#右侧细条\n",
    "# marginal_x=\"histogram\",#上方直方图    violin 小提琴图  box箱型图\n",
    "# trendline=\"ols\"#趋势线\n",
    "#, facet_row=\"time\", facet_col=\"day\",,category_orders={\"day\": [\"Thur\", \n",
    "#           \"Fri\", \"Sat\", \"Sun\"], \"time\": [\"Lunch\", \"Dinner\"]} #分块\n",
    ")\n",
    "tax_rate_out.write_html('tax_rate_out.html')"
   ]
  },
  {
   "cell_type": "code",
   "execution_count": null,
   "metadata": {},
   "outputs": [],
   "source": [
    "from Enterprise import Enterprise\n",
    "from Invoice import Invoice\n",
    "enterprise_dic={}\n",
    "\n",
    "for i in range(1,124):\n",
    "    name = 'E'+str(i)\n"
   ]
  },
  {
   "cell_type": "code",
   "execution_count": null,
   "metadata": {},
   "outputs": [],
   "source": []
  }
 ]
}