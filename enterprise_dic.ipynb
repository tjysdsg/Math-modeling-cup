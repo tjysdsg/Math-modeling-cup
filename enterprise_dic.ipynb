{
 "cells": [
  {
   "cell_type": "code",
   "execution_count": 201,
   "metadata": {},
   "outputs": [],
   "source": [
    "import numpy as np\n",
    "import pandas as pd\n",
    "import plotly_express as px\n",
    "import matplotlib.pyplot as plt\n",
    "from Invoice import Invoice\n",
    "from Enterprise import Enterprise"
   ]
  },
  {
   "cell_type": "code",
   "execution_count": null,
   "metadata": {},
   "outputs": [],
   "source": [
    "enterprise_info=pd.read_csv('./C/1_info.csv')\n",
    "N_enterprise=enterprise_info.shape[0]"
   ]
  },
  {
   "cell_type": "code",
   "execution_count": null,
   "metadata": {},
   "outputs": [],
   "source": [
    "enterprise_dic={}\n",
    "for i in range(N_enterprise):\n",
    "    number = enterprise_info['企业代号'][i]\n",
    "    name = enterprise_info['企业名称'][i]\n",
    "    credit_rating = enterprise_info['信誉评级'][i]\n",
    "    break_contract_str = enterprise_info['是否违约'][i]\n",
    "    break_contract = True if break_contract_str=='是' else False\n",
    "    enterprise_object=Enterprise(number,name,credit_rating,break_contract)\n",
    "    enterprise_dic[number]=enterprise_object"
   ]
  },
  {
   "cell_type": "code",
   "execution_count": null,
   "metadata": {},
   "outputs": [],
   "source": [
    "invoice_in = pd.read_csv('./C/1_in.csv')\n",
    "N_in = invoice_in.shape[0]"
   ]
  },
  {
   "cell_type": "code",
   "execution_count": null,
   "metadata": {},
   "outputs": [],
   "source": [
    "from datetime import date\n",
    "def get_date(date_str):\n",
    "    y,m,d=date_str.split('/')\n",
    "    if len(m) != 2:\n",
    "        m = '0' + m\n",
    "    if len(d) != 2:\n",
    "        d = '0' + d\n",
    "    return date.fromisoformat(y+'-'+m+'-'+d)"
   ]
  },
  {
   "cell_type": "code",
   "execution_count": null,
   "metadata": {},
   "outputs": [],
   "source": [
    "for i in range(N_in):\n",
    "    enterprise_name = invoice_in['企业代号'][i]\n",
    "    number = invoice_in['发票号码'][i]\n",
    "    date_str = invoice_in['开票日期'][i]\n",
    "    date = get_date(date_str)\n",
    "    self_enterprise = enterprise_dic[enterprise_name]\n",
    "    partner = invoice_in['销方单位代号'][i]\n",
    "    amount = invoice_in['金额'][i]\n",
    "    tax = invoice_in['税额'][i]\n",
    "    sum_money = invoice_in['价税合计'][i]\n",
    "    state_available_str = invoice_in['发票状态'][i]\n",
    "    state_available = True if state_available_str == '有效发票' else False\n",
    "    invoice_object = Invoice(number,date,self_enterprise,partner,amount,tax,sum_money,state_available,True)\n",
    "    self_enterprise.add_invoice(invoice_object)"
   ]
  },
  {
   "cell_type": "code",
   "execution_count": null,
   "metadata": {},
   "outputs": [],
   "source": [
    "invoice_out = pd.read_csv('./C/1_out.csv')\n",
    "N_out = invoice_out.shape[0]"
   ]
  },
  {
   "cell_type": "code",
   "execution_count": null,
   "metadata": {},
   "outputs": [],
   "source": [
    "for i in range(N_out):\n",
    "    enterprise_name = invoice_out['企业代号'][i]\n",
    "    number = invoice_out['发票号码'][i]\n",
    "    date_str = invoice_out['开票日期'][i]\n",
    "    date = get_date(date_str)\n",
    "    self_enterprise = enterprise_dic[enterprise_name]\n",
    "    partner = invoice_out['购方单位代号'][i]\n",
    "    amount = invoice_out['金额'][i]\n",
    "    tax = invoice_out['税额'][i]\n",
    "    sum_money = invoice_out['价税合计'][i]\n",
    "    state_available_str = invoice_out['发票状态'][i]\n",
    "    state_available = True if state_available_str == '有效发票' else False\n",
    "    invoice_object = Invoice(number,date,self_enterprise,partner,amount,tax,sum_money,state_available,False)\n",
    "    self_enterprise.add_invoice(invoice_object)"
   ]
  },
  {
   "cell_type": "code",
   "execution_count": null,
   "metadata": {},
   "outputs": [],
   "source": [
    "for enterprise in enterprise_dic.values():\n",
    "    enterprise.invoice_list.sort(key=lambda x:x.date)"
   ]
  },
  {
   "cell_type": "code",
   "execution_count": null,
   "metadata": {},
   "outputs": [],
   "source": [
    "frame = pd.DataFrame(columns=['日期','资金','企业代号','信誉评级'])\n",
    "for enterprise in enterprise_dic.values():\n",
    "    sum = 0\n",
    "    current_date = enterprise.invoice_list[0].date\n",
    "    for invoice in enterprise.invoice_list:\n",
    "        temp = invoice\n",
    "        if invoice.date!=current_date:\n",
    "            frame = frame.append([{'日期':current_date,'资金':sum,'企业代号':enterprise.number,'信誉评级':enterprise.credit_rating}],ignore_index=True)\n",
    "            current_date = invoice.date\n",
    "        if invoice.buy_in == True:\n",
    "            sum = sum - invoice.sum_money\n",
    "        else:\n",
    "            sum = sum + invoice.amount\n",
    "    frame = frame.append([{'日期':temp.date,'资金':sum,'企业代号':enterprise.number,'信誉评级':enterprise.credit_rating}],ignore_index=True)\n"
   ]
  },
  {
   "cell_type": "code",
   "execution_count": null,
   "metadata": {},
   "outputs": [],
   "source": [
    "graph = px.line(frame, x=\"日期\", y=\"资金\",color='企业代号',category_orders={\"信誉评级\": [\"A\",\"B\", \"C\", \"D\"]},  render_mode=\"auto\")\n",
    "graph.write_html('./1_graph/total.html')"
   ]
  },
  {
   "cell_type": "code",
   "execution_count": 74,
   "metadata": {},
   "outputs": [],
   "source": [
    "frame2 = pd.DataFrame(columns=['天数','资金','企业代号','信誉评级'])\n",
    "for i in range(frame.shape[0]-1):\n",
    "    if frame['企业代号'][i+1]==frame['企业代号'][i]:\n",
    "        frame2 = frame2.append([{'天数':(frame['日期'][i+1]-frame['日期'][i]).days,'资金':frame['资金'][i],'企业代号':frame['企业代号'][i],'信誉评级':frame['信誉评级'][i]}],ignore_index=True)\n"
   ]
  },
  {
   "cell_type": "code",
   "execution_count": 75,
   "metadata": {},
   "outputs": [],
   "source": [
    "frame2 = frame2.sort_values(by=['资金','企业代号'],axis=0,ascending=[True,True]).reset_index(drop=True)"
   ]
  },
  {
   "cell_type": "code",
   "execution_count": null,
   "metadata": {},
   "outputs": [],
   "source": [
    "graph2 = px.scatter(frame2, x=\"资金\", y=\"天数\",color='企业代号',category_orders={\"信誉评级\": [\"A\",\"B\", \"C\", \"D\"]})\n",
    "graph2.write_html('./1_graph/money.html')"
   ]
  },
  {
   "cell_type": "code",
   "execution_count": null,
   "metadata": {},
   "outputs": [],
   "source": [
    "len(enterprise_info[enterprise_info.信誉评级 == 'D']) # A 27 B 38 C 34 D 24"
   ]
  },
  {
   "cell_type": "code",
   "execution_count": 76,
   "metadata": {},
   "outputs": [
    {
     "output_type": "execute_result",
     "data": {
      "text/plain": "       天数            资金 企业代号 信誉评级\n0       3 -2.772872e+09   E1    A\n1       1 -2.770322e+09   E1    A\n2       1 -2.739831e+09   E1    A\n3       3 -2.739830e+09   E1    A\n4      12 -2.739700e+09   E1    A\n...    ..           ...  ...  ...\n49675   6  1.641354e+09   E4    C\n49676   1  1.642816e+09   E4    C\n49677   5  1.642823e+09   E4    C\n49678  12  1.642825e+09   E4    C\n49679   2  1.642825e+09   E4    C\n\n[49680 rows x 4 columns]",
      "text/html": "<div>\n<style scoped>\n    .dataframe tbody tr th:only-of-type {\n        vertical-align: middle;\n    }\n\n    .dataframe tbody tr th {\n        vertical-align: top;\n    }\n\n    .dataframe thead th {\n        text-align: right;\n    }\n</style>\n<table border=\"1\" class=\"dataframe\">\n  <thead>\n    <tr style=\"text-align: right;\">\n      <th></th>\n      <th>天数</th>\n      <th>资金</th>\n      <th>企业代号</th>\n      <th>信誉评级</th>\n    </tr>\n  </thead>\n  <tbody>\n    <tr>\n      <th>0</th>\n      <td>3</td>\n      <td>-2.772872e+09</td>\n      <td>E1</td>\n      <td>A</td>\n    </tr>\n    <tr>\n      <th>1</th>\n      <td>1</td>\n      <td>-2.770322e+09</td>\n      <td>E1</td>\n      <td>A</td>\n    </tr>\n    <tr>\n      <th>2</th>\n      <td>1</td>\n      <td>-2.739831e+09</td>\n      <td>E1</td>\n      <td>A</td>\n    </tr>\n    <tr>\n      <th>3</th>\n      <td>3</td>\n      <td>-2.739830e+09</td>\n      <td>E1</td>\n      <td>A</td>\n    </tr>\n    <tr>\n      <th>4</th>\n      <td>12</td>\n      <td>-2.739700e+09</td>\n      <td>E1</td>\n      <td>A</td>\n    </tr>\n    <tr>\n      <th>...</th>\n      <td>...</td>\n      <td>...</td>\n      <td>...</td>\n      <td>...</td>\n    </tr>\n    <tr>\n      <th>49675</th>\n      <td>6</td>\n      <td>1.641354e+09</td>\n      <td>E4</td>\n      <td>C</td>\n    </tr>\n    <tr>\n      <th>49676</th>\n      <td>1</td>\n      <td>1.642816e+09</td>\n      <td>E4</td>\n      <td>C</td>\n    </tr>\n    <tr>\n      <th>49677</th>\n      <td>5</td>\n      <td>1.642823e+09</td>\n      <td>E4</td>\n      <td>C</td>\n    </tr>\n    <tr>\n      <th>49678</th>\n      <td>12</td>\n      <td>1.642825e+09</td>\n      <td>E4</td>\n      <td>C</td>\n    </tr>\n    <tr>\n      <th>49679</th>\n      <td>2</td>\n      <td>1.642825e+09</td>\n      <td>E4</td>\n      <td>C</td>\n    </tr>\n  </tbody>\n</table>\n<p>49680 rows × 4 columns</p>\n</div>"
     },
     "metadata": {},
     "execution_count": 76
    }
   ],
   "source": [
    "frame2"
   ]
  },
  {
   "cell_type": "code",
   "execution_count": 218,
   "metadata": {},
   "outputs": [],
   "source": [
    "frame3 = pd.DataFrame(columns=['天数','资金','企业代号','信誉评级','是否违约'])\n",
    "for enterprise in enterprise_dic.values():\n",
    "    sum=0\n",
    "    temp = frame2[frame2.企业代号 == enterprise.number].reset_index(drop=True)\n",
    "    for i in range(temp.shape[0]):\n",
    "        sum = sum + temp['天数'][i]\n",
    "        frame3 = frame3.append([{'天数':sum,'资金':temp['资金'][i],'企业代号':temp['企业代号'][i],'信誉评级':temp['信誉评级'][i],'是否违约':('是' if enterprise.break_contract == True else '否')}],ignore_index=True)"
   ]
  },
  {
   "cell_type": "code",
   "execution_count": 223,
   "metadata": {},
   "outputs": [
    {
     "output_type": "execute_result",
     "data": {
      "text/plain": "        天数            资金 企业代号 信誉评级 是否违约\n0        3 -2.772872e+09   E1    A    否\n1        4 -2.770322e+09   E1    A    否\n2        5 -2.739831e+09   E1    A    否\n3        8 -2.739830e+09   E1    A    否\n4       20 -2.739700e+09   E1    A    否\n...    ...           ...  ...  ...  ...\n49675  772  3.511289e+05  E99    D    是\n49676  774  3.523300e+05  E99    D    是\n49677  775  3.527300e+05  E99    D    是\n49678  777  3.529300e+05  E99    D    是\n49679  778  3.535700e+05  E99    D    是\n\n[49680 rows x 5 columns]",
      "text/html": "<div>\n<style scoped>\n    .dataframe tbody tr th:only-of-type {\n        vertical-align: middle;\n    }\n\n    .dataframe tbody tr th {\n        vertical-align: top;\n    }\n\n    .dataframe thead th {\n        text-align: right;\n    }\n</style>\n<table border=\"1\" class=\"dataframe\">\n  <thead>\n    <tr style=\"text-align: right;\">\n      <th></th>\n      <th>天数</th>\n      <th>资金</th>\n      <th>企业代号</th>\n      <th>信誉评级</th>\n      <th>是否违约</th>\n    </tr>\n  </thead>\n  <tbody>\n    <tr>\n      <th>0</th>\n      <td>3</td>\n      <td>-2.772872e+09</td>\n      <td>E1</td>\n      <td>A</td>\n      <td>否</td>\n    </tr>\n    <tr>\n      <th>1</th>\n      <td>4</td>\n      <td>-2.770322e+09</td>\n      <td>E1</td>\n      <td>A</td>\n      <td>否</td>\n    </tr>\n    <tr>\n      <th>2</th>\n      <td>5</td>\n      <td>-2.739831e+09</td>\n      <td>E1</td>\n      <td>A</td>\n      <td>否</td>\n    </tr>\n    <tr>\n      <th>3</th>\n      <td>8</td>\n      <td>-2.739830e+09</td>\n      <td>E1</td>\n      <td>A</td>\n      <td>否</td>\n    </tr>\n    <tr>\n      <th>4</th>\n      <td>20</td>\n      <td>-2.739700e+09</td>\n      <td>E1</td>\n      <td>A</td>\n      <td>否</td>\n    </tr>\n    <tr>\n      <th>...</th>\n      <td>...</td>\n      <td>...</td>\n      <td>...</td>\n      <td>...</td>\n      <td>...</td>\n    </tr>\n    <tr>\n      <th>49675</th>\n      <td>772</td>\n      <td>3.511289e+05</td>\n      <td>E99</td>\n      <td>D</td>\n      <td>是</td>\n    </tr>\n    <tr>\n      <th>49676</th>\n      <td>774</td>\n      <td>3.523300e+05</td>\n      <td>E99</td>\n      <td>D</td>\n      <td>是</td>\n    </tr>\n    <tr>\n      <th>49677</th>\n      <td>775</td>\n      <td>3.527300e+05</td>\n      <td>E99</td>\n      <td>D</td>\n      <td>是</td>\n    </tr>\n    <tr>\n      <th>49678</th>\n      <td>777</td>\n      <td>3.529300e+05</td>\n      <td>E99</td>\n      <td>D</td>\n      <td>是</td>\n    </tr>\n    <tr>\n      <th>49679</th>\n      <td>778</td>\n      <td>3.535700e+05</td>\n      <td>E99</td>\n      <td>D</td>\n      <td>是</td>\n    </tr>\n  </tbody>\n</table>\n<p>49680 rows × 5 columns</p>\n</div>"
     },
     "metadata": {},
     "execution_count": 223
    }
   ],
   "source": [
    "frame3"
   ]
  },
  {
   "cell_type": "code",
   "execution_count": 222,
   "metadata": {},
   "outputs": [],
   "source": [
    "frame3 = frame3.sort_values(by=['企业代号','天数'],axis=0,ascending=[True,True]).reset_index(drop=True)"
   ]
  },
  {
   "cell_type": "code",
   "execution_count": 224,
   "metadata": {},
   "outputs": [],
   "source": [
    "graph3 = px.line(frame3, x=\"资金\", y=\"天数\",color='企业代号',category_orders={\"信誉评级\": [\"A\",\"B\", \"C\", \"D\"]},  render_mode=\"auto\")\n",
    "graph3.write_html('./1_graph/money2.html')"
   ]
  },
  {
   "cell_type": "code",
   "execution_count": 227,
   "metadata": {},
   "outputs": [],
   "source": [
    "frame4 = pd.DataFrame(columns=['频率','资金','企业代号','信誉评级','是否违约'])\n",
    "for enterprise in enterprise_dic.values():\n",
    "    temp = frame3[frame3.企业代号 == enterprise.number].reset_index(drop=True)\n",
    "    max = temp['天数'][len(temp['天数'])-1]\n",
    "    for i in range(temp.shape[0]):\n",
    "        frame4 = frame4.append([{'频率':temp['天数'][i]/max,'资金':temp['资金'][i],'企业代号':temp['企业代号'][i],'信誉评级':temp['信誉评级'][i],'是否违约':('是' if enterprise.break_contract == True else '否')}],ignore_index=True)"
   ]
  },
  {
   "cell_type": "code",
   "execution_count": 228,
   "metadata": {},
   "outputs": [],
   "source": [
    "graph4 = px.line(frame4, x=\"资金\", y=\"频率\",color='企业代号',category_orders={\"信誉评级\": [\"A\",\"B\", \"C\", \"D\"]},  render_mode=\"auto\")\n",
    "graph4.write_html('./1_graph/money3.html')"
   ]
  },
  {
   "cell_type": "code",
   "execution_count": 236,
   "metadata": {},
   "outputs": [],
   "source": [
    "def poly(frame):\n",
    "    var_error={}\n",
    "    poly1d_dic={}\n",
    "    assert len(frame[frame.企业代号 != frame['企业代号'][0]]) == 0\n",
    "    x = np.array(frame['资金'])\n",
    "    y = np.array(frame['频率'])\n",
    "\n",
    "    for i in range(1,4):\n",
    "        fi=np.polyfit(x, y, i)\n",
    "        poly1d_dic[i]=np.poly1d(fi)\n",
    "        var_error[i]=np.var(np.abs(np.polyval(fi,x)-y))\n",
    "\n",
    "    '''\n",
    "    f1 = np.polyfit(x, y, 1)\n",
    "    p1 = np.poly1d(f1)\n",
    "    poly1d_dic[1]=p1\n",
    "    var_error[1]=np.var(np.abs(np.polyval(f1,x)-y))\n",
    "\n",
    "    f2 = np.polyfit(x, y, 2)\n",
    "    p2 = np.poly1d(f2)\n",
    "    poly1d_dic[2]=p2\n",
    "    var_error[2]=np.var(np.abs(np.polyval(f2,x)-y))\n",
    "\n",
    "    f3 = np.polyfit(x, y, 3)\n",
    "    p3 = np.poly1d(f3)\n",
    "    poly1d_dic[3]=p3\n",
    "    var_error[3]=np.var(np.abs(np.polyval(f3,x)-y))\n",
    "\n",
    "    f4 = np.polyfit(x, y, 4)\n",
    "    p4 = np.poly1d(f4)\n",
    "    poly1d_dic[4]=p4\n",
    "    var_error[4]=np.var(np.abs(np.polyval(f4,x)-y))\n",
    "    '''\n",
    "    return (poly1d_dic[min(var_error,key=lambda x:var_error[x])])\n",
    "\n",
    "    p=poly1d_dic[min(var_error,key=lambda x:var_error[x])]\n",
    "    yvals = p(x)\n",
    "    plot1 = plt.plot(x, y, 's',label='original values')\n",
    "    plot2 = plt.plot(x, yvals, 'r',label='polyfit values')\n",
    "    plt.xlabel('x')\n",
    "    plt.ylabel('y')\n",
    "    plt.legend(loc=4) #指定legend的位置右下角\n",
    "    plt.title('polyfitting')\n",
    "    plt.show()\n",
    "    print(var_error.values())\n",
    "    return (min(var_error,key=lambda x:var_error[x]))"
   ]
  },
  {
   "cell_type": "code",
   "execution_count": 237,
   "metadata": {
    "tags": []
   },
   "outputs": [
    {
     "output_type": "stream",
     "name": "stdout",
     "text": "E1            3            2\n5.948e-29 x + 1.95e-19 x + 4.475e-10 x + 0.9603\n"
    }
   ],
   "source": [
    "\n",
    "for enterprise in enterprise_dic.values():\n",
    "    #enterprise=enterprise_dic['E67']\n",
    "    #print(enterprise.number)\n",
    "    temp = frame4[frame4.企业代号 == enterprise.number].reset_index(drop=True)\n",
    "    #poly(temp)\n",
    "    print(enterprise.number,poly(temp))\n",
    "\n",
    "    break"
   ]
  },
  {
   "cell_type": "code",
   "execution_count": 148,
   "metadata": {
    "tags": []
   },
   "outputs": [
    {
     "output_type": "stream",
     "name": "stdout",
     "text": "941\n"
    }
   ],
   "source": [
    "for enterprise in enterprise_dic.values():\n",
    "    temp = frame3[frame3.企业代号 == enterprise.number].reset_index(drop=True)\n",
    "    max = temp['天数'][0]\n",
    "    print(max)\n",
    "    break"
   ]
  },
  {
   "cell_type": "code",
   "execution_count": 151,
   "metadata": {},
   "outputs": [
    {
     "output_type": "execute_result",
     "data": {
      "text/plain": "0.9968119022316685"
     },
     "metadata": {},
     "execution_count": 151
    }
   ],
   "source": [
    "frame4['频率'][1]"
   ]
  },
  {
   "cell_type": "code",
   "execution_count": null,
   "metadata": {},
   "outputs": [],
   "source": []
  }
 ],
 "metadata": {
  "language_info": {
   "name": "python",
   "codemirror_mode": {
    "name": "ipython",
    "version": 3
   },
   "version": "3.7.5-final"
  },
  "orig_nbformat": 2,
  "file_extension": ".py",
  "mimetype": "text/x-python",
  "name": "python",
  "npconvert_exporter": "python",
  "pygments_lexer": "ipython3",
  "version": 3,
  "kernelspec": {
   "name": "python37564bit7ce19d34b5d64e10aeb63e084aaca162",
   "display_name": "Python 3.7.5 64-bit"
  }
 },
 "nbformat": 4,
 "nbformat_minor": 2
}