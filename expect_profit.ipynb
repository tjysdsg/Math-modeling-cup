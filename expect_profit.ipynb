{
 "metadata": {
  "language_info": {
   "codemirror_mode": {
    "name": "ipython",
    "version": 3
   },
   "file_extension": ".py",
   "mimetype": "text/x-python",
   "name": "python",
   "nbconvert_exporter": "python",
   "pygments_lexer": "ipython3",
   "version": "3.6.8-final"
  },
  "orig_nbformat": 2,
  "kernelspec": {
   "name": "python_defaultSpec_1599793337584",
   "display_name": "Python 3.6.8 64-bit ('python36': conda)"
  }
 },
 "nbformat": 4,
 "nbformat_minor": 2,
 "cells": [
  {
   "cell_type": "code",
   "execution_count": 45,
   "metadata": {},
   "outputs": [],
   "source": [
    "import numpy as np\n",
    "import pandas as pd\n",
    "import matplotlib.pyplot as plt\n",
    "from scipy import integrate\n",
    "from Enterprise import Enterprise"
   ]
  },
  {
   "cell_type": "code",
   "execution_count": 46,
   "metadata": {},
   "outputs": [],
   "source": [
    "data_rate_and_loss = pd.read_csv(\"./C/rate_and_loss.csv\")"
   ]
  },
  {
   "cell_type": "code",
   "execution_count": 47,
   "metadata": {},
   "outputs": [
    {
     "output_type": "execute_result",
     "data": {
      "text/plain": "     贷款年利率         A         B         C\n0   0.0400  0.000000  0.000000  0.000000\n1   0.0425  0.094574  0.066800  0.068725\n2   0.0465  0.135727  0.135052  0.122099\n3   0.0505  0.224603  0.206580  0.181252\n4   0.0545  0.302038  0.276812  0.263303\n5   0.0585  0.347316  0.302883  0.290189\n6   0.0625  0.413472  0.370216  0.349716\n7   0.0665  0.447891  0.406297  0.390772\n8   0.0705  0.497634  0.458295  0.457238\n9   0.0745  0.511097  0.508719  0.492660\n10  0.0785  0.573393  0.544409  0.513660\n11  0.0825  0.609492  0.548494  0.530249\n12  0.0865  0.652945  0.588766  0.587762\n13  0.0905  0.667542  0.625765  0.590097\n14  0.0945  0.694780  0.635605  0.642994\n15  0.0985  0.708302  0.673527  0.658839\n16  0.1025  0.731275  0.696925  0.696871\n17  0.1065  0.775091  0.705316  0.719104\n18  0.1105  0.798227  0.742936  0.711101\n19  0.1145  0.790527  0.776401  0.750628\n20  0.1185  0.815197  0.762023  0.776816\n21  0.1225  0.814421  0.791504  0.784481\n22  0.1265  0.854811  0.814999  0.795566\n23  0.1305  0.870317  0.822298  0.820051\n24  0.1345  0.871428  0.835302  0.832288\n25  0.1385  0.885926  0.845748  0.844090\n26  0.1425  0.874435  0.842071  0.836974\n27  0.1465  0.902726  0.868160  0.872559\n28  0.1500  0.922061  0.885865  0.895165",
      "text/html": "<div>\n<style scoped>\n    .dataframe tbody tr th:only-of-type {\n        vertical-align: middle;\n    }\n\n    .dataframe tbody tr th {\n        vertical-align: top;\n    }\n\n    .dataframe thead th {\n        text-align: right;\n    }\n</style>\n<table border=\"1\" class=\"dataframe\">\n  <thead>\n    <tr style=\"text-align: right;\">\n      <th></th>\n      <th>贷款年利率</th>\n      <th>A</th>\n      <th>B</th>\n      <th>C</th>\n    </tr>\n  </thead>\n  <tbody>\n    <tr>\n      <th>0</th>\n      <td>0.0400</td>\n      <td>0.000000</td>\n      <td>0.000000</td>\n      <td>0.000000</td>\n    </tr>\n    <tr>\n      <th>1</th>\n      <td>0.0425</td>\n      <td>0.094574</td>\n      <td>0.066800</td>\n      <td>0.068725</td>\n    </tr>\n    <tr>\n      <th>2</th>\n      <td>0.0465</td>\n      <td>0.135727</td>\n      <td>0.135052</td>\n      <td>0.122099</td>\n    </tr>\n    <tr>\n      <th>3</th>\n      <td>0.0505</td>\n      <td>0.224603</td>\n      <td>0.206580</td>\n      <td>0.181252</td>\n    </tr>\n    <tr>\n      <th>4</th>\n      <td>0.0545</td>\n      <td>0.302038</td>\n      <td>0.276812</td>\n      <td>0.263303</td>\n    </tr>\n    <tr>\n      <th>5</th>\n      <td>0.0585</td>\n      <td>0.347316</td>\n      <td>0.302883</td>\n      <td>0.290189</td>\n    </tr>\n    <tr>\n      <th>6</th>\n      <td>0.0625</td>\n      <td>0.413472</td>\n      <td>0.370216</td>\n      <td>0.349716</td>\n    </tr>\n    <tr>\n      <th>7</th>\n      <td>0.0665</td>\n      <td>0.447891</td>\n      <td>0.406297</td>\n      <td>0.390772</td>\n    </tr>\n    <tr>\n      <th>8</th>\n      <td>0.0705</td>\n      <td>0.497634</td>\n      <td>0.458295</td>\n      <td>0.457238</td>\n    </tr>\n    <tr>\n      <th>9</th>\n      <td>0.0745</td>\n      <td>0.511097</td>\n      <td>0.508719</td>\n      <td>0.492660</td>\n    </tr>\n    <tr>\n      <th>10</th>\n      <td>0.0785</td>\n      <td>0.573393</td>\n      <td>0.544409</td>\n      <td>0.513660</td>\n    </tr>\n    <tr>\n      <th>11</th>\n      <td>0.0825</td>\n      <td>0.609492</td>\n      <td>0.548494</td>\n      <td>0.530249</td>\n    </tr>\n    <tr>\n      <th>12</th>\n      <td>0.0865</td>\n      <td>0.652945</td>\n      <td>0.588766</td>\n      <td>0.587762</td>\n    </tr>\n    <tr>\n      <th>13</th>\n      <td>0.0905</td>\n      <td>0.667542</td>\n      <td>0.625765</td>\n      <td>0.590097</td>\n    </tr>\n    <tr>\n      <th>14</th>\n      <td>0.0945</td>\n      <td>0.694780</td>\n      <td>0.635605</td>\n      <td>0.642994</td>\n    </tr>\n    <tr>\n      <th>15</th>\n      <td>0.0985</td>\n      <td>0.708302</td>\n      <td>0.673527</td>\n      <td>0.658839</td>\n    </tr>\n    <tr>\n      <th>16</th>\n      <td>0.1025</td>\n      <td>0.731275</td>\n      <td>0.696925</td>\n      <td>0.696871</td>\n    </tr>\n    <tr>\n      <th>17</th>\n      <td>0.1065</td>\n      <td>0.775091</td>\n      <td>0.705316</td>\n      <td>0.719104</td>\n    </tr>\n    <tr>\n      <th>18</th>\n      <td>0.1105</td>\n      <td>0.798227</td>\n      <td>0.742936</td>\n      <td>0.711101</td>\n    </tr>\n    <tr>\n      <th>19</th>\n      <td>0.1145</td>\n      <td>0.790527</td>\n      <td>0.776401</td>\n      <td>0.750628</td>\n    </tr>\n    <tr>\n      <th>20</th>\n      <td>0.1185</td>\n      <td>0.815197</td>\n      <td>0.762023</td>\n      <td>0.776816</td>\n    </tr>\n    <tr>\n      <th>21</th>\n      <td>0.1225</td>\n      <td>0.814421</td>\n      <td>0.791504</td>\n      <td>0.784481</td>\n    </tr>\n    <tr>\n      <th>22</th>\n      <td>0.1265</td>\n      <td>0.854811</td>\n      <td>0.814999</td>\n      <td>0.795566</td>\n    </tr>\n    <tr>\n      <th>23</th>\n      <td>0.1305</td>\n      <td>0.870317</td>\n      <td>0.822298</td>\n      <td>0.820051</td>\n    </tr>\n    <tr>\n      <th>24</th>\n      <td>0.1345</td>\n      <td>0.871428</td>\n      <td>0.835302</td>\n      <td>0.832288</td>\n    </tr>\n    <tr>\n      <th>25</th>\n      <td>0.1385</td>\n      <td>0.885926</td>\n      <td>0.845748</td>\n      <td>0.844090</td>\n    </tr>\n    <tr>\n      <th>26</th>\n      <td>0.1425</td>\n      <td>0.874435</td>\n      <td>0.842071</td>\n      <td>0.836974</td>\n    </tr>\n    <tr>\n      <th>27</th>\n      <td>0.1465</td>\n      <td>0.902726</td>\n      <td>0.868160</td>\n      <td>0.872559</td>\n    </tr>\n    <tr>\n      <th>28</th>\n      <td>0.1500</td>\n      <td>0.922061</td>\n      <td>0.885865</td>\n      <td>0.895165</td>\n    </tr>\n  </tbody>\n</table>\n</div>"
     },
     "metadata": {},
     "execution_count": 47
    }
   ],
   "source": [
    "data_rate_and_loss"
   ]
  },
  {
   "cell_type": "code",
   "execution_count": 48,
   "metadata": {},
   "outputs": [
    {
     "output_type": "execute_result",
     "data": {
      "text/plain": "[0.04,\n 0.0425,\n 0.0465,\n 0.0505,\n 0.0545,\n 0.0585,\n 0.0625,\n 0.0665,\n 0.0705,\n 0.0745,\n 0.0785,\n 0.0825,\n 0.0865,\n 0.0905,\n 0.0945,\n 0.0985,\n 0.1025,\n 0.1065,\n 0.1105,\n 0.1145,\n 0.1185,\n 0.1225,\n 0.1265,\n 0.1305,\n 0.1345,\n 0.1385,\n 0.1425,\n 0.1465,\n 0.15]"
     },
     "metadata": {},
     "execution_count": 48
    }
   ],
   "source": [
    "rates = list(data_rate_and_loss[\"贷款年利率\"])\n",
    "rates"
   ]
  },
  {
   "cell_type": "code",
   "execution_count": 49,
   "metadata": {},
   "outputs": [],
   "source": [
    "def F():\n",
    "    return 1\n",
    "\n",
    "def f():\n",
    "    return 1"
   ]
  },
  {
   "cell_type": "code",
   "execution_count": 50,
   "metadata": {},
   "outputs": [],
   "source": [
    "def calc_alpha(r, credit_rating):\n",
    "    for i in range(data_rate_and_loss.shape[0]):\n",
    "        if data_rate_and_loss[\"贷款年利率\"][i] == r:\n",
    "            return data_rate_and_loss[credit_rating][i]\n",
    "\n",
    "def calc_beta(A, F):\n",
    "    return F(A)\n",
    "\n",
    "def calc_gamma(credit_rating, break_contract):\n",
    "    c = {\"A\": 1, \"B\": 0.9, \"C\": 0.7}\n",
    "    b = {True: 0.5, False: 1}\n",
    "    return c[credit_rating] * b[break_contract]\n",
    "\n",
    "def calc_A_(A, F, f):\n",
    "    v, err = integrate.quad(F, -np.inf, A)\n",
    "    return (A * F(A) - v) / F(A)\n",
    "\n",
    "def calc_expect_profit(A, r, enterprise: \"Enterprise\"):\n",
    "    alpha = calc_alpha(r, enterprise.credit_rating) # 客户流失率\n",
    "    beta = calc_beta(A) # 资金抵债率\n",
    "    gamma = calc_gamma(enterprise.credit_rating, enterprise.break_contract) # 企业信誉系数\n",
    "    A_ = calc_A_ # 无法还债时的期望剩余资金\n",
    "    return (beta * (A_ / gamma - A * (1 + r)) + (1 - beta) * (A * r)) * (1 - alpha)"
   ]
  },
  {
   "cell_type": "code",
   "execution_count": 51,
   "metadata": {},
   "outputs": [],
   "source": [
    "def get_A_max_expect_profit(enterprise: \"Enterprise\"):\n",
    "    for r in rates:\n",
    "        pass"
   ]
  },
  {
   "cell_type": "code",
   "execution_count": null,
   "metadata": {},
   "outputs": [],
   "source": []
  }
 ]
}